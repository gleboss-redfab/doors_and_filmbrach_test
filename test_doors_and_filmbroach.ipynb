{
 "cells": [
  {
   "cell_type": "code",
   "execution_count": null,
   "metadata": {},
   "outputs": [],
   "source": [
    "pip install pymodbus"
   ]
  },
  {
   "cell_type": "code",
   "execution_count": null,
   "metadata": {},
   "outputs": [],
   "source": [
    "import serial\n",
    "from pymodbus.pdu import ModbusRequest\n",
    "from pymodbus.client.sync import ModbusSerialClient as ModbusClient\n",
    "from pymodbus.transaction import ModbusRtuFramer\n",
    "from pymodbus.constants import Defaults\n",
    "\n",
    "from time import sleep\n",
    "import json\n",
    "\n",
    "# Константы повторного опроса при пропаже соединенния или пакета\n",
    "Defaults.RetryOnEmpty = True\n",
    "Defaults.Timeout = 5\n",
    "Defaults.Retries = 5\n",
    "\n",
    "# клиент соединеня по UART\n",
    "client = ModbusClient(method = 'rtu', \n",
    "                    port='/dev/ttyUSB0', \n",
    "                    baudrate=115200,\n",
    "                    timeout=1, \n",
    "                    bytesize=8, \n",
    "                    stopbits=1)\n",
    "\n",
    "# modbus protocol ID\n",
    "doors_and_film_system_slave_id = 1"
   ]
  },
  {
   "cell_type": "markdown",
   "metadata": {},
   "source": [
    "# Utils"
   ]
  },
  {
   "cell_type": "markdown",
   "metadata": {},
   "source": [
    "### Проврека подключения"
   ]
  },
  {
   "cell_type": "code",
   "execution_count": null,
   "metadata": {},
   "outputs": [],
   "source": [
    "def mb_connect():\n",
    "\t# првоеряем подключение, пытаемся подключиться 10 раз\n",
    "\tfor i in range(10):\n",
    "\t\tconnection = client.connect()\n",
    "\t\tif(not connection):\n",
    "\t\t\tprint(\"Modbus not connected... try to connect again\")\n",
    "\t\t\tsleep(0.1)\n",
    "\t\telse:\n",
    "\t\t\t# print(\"Modbus connected succesfully\")\n",
    "\t\t\treturn connection\n",
    "\n",
    "\treturn False"
   ]
  },
  {
   "cell_type": "code",
   "execution_count": null,
   "metadata": {},
   "outputs": [],
   "source": [
    "mb_connect()"
   ]
  },
  {
   "cell_type": "markdown",
   "metadata": {},
   "source": [
    "# ДВЕРИ"
   ]
  },
  {
   "cell_type": "code",
   "execution_count": null,
   "metadata": {},
   "outputs": [],
   "source": [
    "class DoorModbusManager(object):\n",
    "\tdef mb_read_state(self):\n",
    "\t\tconnection = mb_connect()\n",
    "\t\tif not connection:\n",
    "\t\t\tprint('Unable to connect door and film module via Modbus and RS-485.')\n",
    "\t\t\treturn False, None\n",
    "\n",
    "\t\tstate = client.read_holding_registers(0, 13, unit=doors_and_film_system_slave_id) # start_address, count, slave_id\n",
    "\t\t\n",
    "\t\tif state.isError():\n",
    "\t\t\tprint('Unable to read or write Modbus registers. Error:\\n %s', state)\n",
    "\t\t\treturn False, None\n",
    "\n",
    "\t\treturn True, state.registers\n",
    "\n",
    "\n",
    "\tdef mb_write_default_params(self):\n",
    "\t\tconnection = mb_connect()\n",
    "\t\tif not connection:\n",
    "\t\t\tprint('Unable to connect door and film module via Modbus and RS-485.')\n",
    "\t\t\treturn False\n",
    "\t\t\n",
    "\t\textra_step_default_data = [12, 6]\n",
    "\t\tstep_res_default_data = [1, 1]\n",
    "\t\tcommand_degault_data = 0\n",
    "\n",
    "\t\t# записываем регистры и проверяем ответ\n",
    "\t\t# TODO: сделать несколько попыток\n",
    "\t\tresponse1 = client.write_registers(3, extra_step_default_data, unit=doors_and_film_system_slave_id)\n",
    "\t\tif response1.isError():\n",
    "\t\t\tprint('Unable to write params or there is the connection problem.')\n",
    "\t\t\treturn False\n",
    "\n",
    "\t\tresponse2 = client.write_registers(3, step_res_default_data, unit=doors_and_film_system_slave_id)\n",
    "\t\tif response2.isError():\n",
    "\t\t\tprint('Unable to write params or there is the connection problem.')\n",
    "\t\t\treturn False\n",
    "\t\t\t\n",
    "\t\tresponse3 = client.write_registers(3, command_degault_data, unit=doors_and_film_system_slave_id)\n",
    "\t\tif response3.isError():\n",
    "\t\t\tprint('Unable to write params or there is the connection problem.')\n",
    "\t\t\treturn False\n",
    "\n",
    "\t\treturn True\n",
    "\n",
    "\n",
    "\tdef mb_write_command(self, command):\n",
    "\t\tconnection = mb_connect()\n",
    "\t\tif not connection:\n",
    "\t\t\tprint('Unable to connect door and film module via Modbus and RS-485.')\n",
    "\t\t\treturn False\n",
    "\t\n",
    "\t\tresponse = client.write_register(0, int(command), unit=doors_and_film_system_slave_id)  \n",
    "\t\tif response.isError():\n",
    "\t\t\tprint('Unable to read or write Modbus registers. Error:\\n %s', response)\n",
    "\t\t\treturn False\n",
    "\n",
    "\t\treturn True\n",
    "\n",
    "\n",
    "\tdef mb_write_speed(self, motor, speed):\n",
    "\t\tconnection = mb_connect()\n",
    "\t\tif not connection:\n",
    "\t\t\tprint('Unable to connect door and film module via Modbus and RS-485.')\n",
    "\t\t\treturn False\n",
    "\t\t\n",
    "\t\tif(speed < 100 and speed > 50):\n",
    "\t\t\tresolution = 1\n",
    "\t\telif(speed <= 50 and speed > 25):\n",
    "\t\t\tresolution = 2\n",
    "\t\telif(speed <= 25 and speed > 12):\n",
    "\t\t\tresolution = 4\n",
    "\t\telif(speed <= 12 and speed > 6):\n",
    "\t\t\tresolution = 8\n",
    "\t\telif(speed <= 6 and speed > 3):\n",
    "\t\t\tresolution = 16\n",
    "\t\telse:\n",
    "\t\t\tresolution = 32\n",
    "\n",
    "\n",
    "\t\tif (motor == 1):\n",
    "\t\t\tresponse = client.write_register(9, int(resolution), unit=doors_and_film_system_slave_id)  \n",
    "\t\t\tif response.isError():\n",
    "\t\t\t\tprint('Unable to read or write Modbus registers. Error:\\n %s', response)\n",
    "\t\t\t\treturn False\n",
    "\t\telse:\n",
    "\t\t\tresponse = client.write_register(10, int(resolution), unit=doors_and_film_system_slave_id)  \n",
    "\t\t\tif response.isError():\n",
    "\t\t\t\tprint('Unable to read or write Modbus registers. Error:\\n %s', response)\n",
    "\t\t\t\treturn False\n",
    "\n",
    "\t\treturn True\n",
    "\n",
    "doors_mb = DoorModbusManager()"
   ]
  },
  {
   "cell_type": "markdown",
   "metadata": {},
   "source": [
    "### Сброс ошибки"
   ]
  },
  {
   "cell_type": "code",
   "execution_count": null,
   "metadata": {},
   "outputs": [],
   "source": [
    "client.write_register(11, 0, unit=doors_and_film_system_slave_id)"
   ]
  },
  {
   "cell_type": "markdown",
   "metadata": {},
   "source": [
    "### Настройка скорости работы дверей"
   ]
  },
  {
   "cell_type": "code",
   "execution_count": null,
   "metadata": {},
   "outputs": [],
   "source": [
    "client.write_register(12, 1000 , unit=doors_and_film_system_slave_id)"
   ]
  },
  {
   "cell_type": "markdown",
   "metadata": {},
   "source": [
    "### Состояние для REST API \n",
    "### TODO: выводит неправильные данные при откртии и закрытии дверей"
   ]
  },
  {
   "cell_type": "code",
   "execution_count": null,
   "metadata": {},
   "outputs": [],
   "source": [
    "def state_high_level():\n",
    "    is_mb_connect, data = doors_mb.mb_read_state()\n",
    "    \n",
    "    if not is_mb_connect:\n",
    "        print(\"Not connected\")\n",
    "        error = \"error\"\n",
    "        state_upper = \"error\"\n",
    "        state_lower = \"error\"\n",
    "        return error, state_upper, state_lower \n",
    "\n",
    "    error = \"not error\"\n",
    "    state_upper = \"\"\n",
    "    state_lower = \"\"\n",
    "\n",
    "    if(not data[11] == 0):\n",
    "        error = \"error\"\n",
    "        state_upper = \"error\"\n",
    "        state_lower = \"error\"\n",
    "    elif(data[0] == 0 and data[11] == 0):\n",
    "        state_upper = \"door is unhold\"\n",
    "        state_lower = \"door is unhold\"\n",
    "    elif(data[0] == 1 and data[11] == 0):\n",
    "        if(data[6] == data[3] and data[8] == data[4]):\n",
    "            state_upper = \"door open without errors\"\n",
    "            state_lower = \"door open without errors\"\n",
    "        else:\n",
    "            state_upper = \"door is opening\"\n",
    "            state_lower = \"door is opening\"\n",
    "    elif(data[0] == 2 and data[11] == 0):\n",
    "        if(data[5] == data[1] and data[7] == data[2]):\n",
    "            state_upper = \"door closed without errors\"\n",
    "            state_lower = \"door closed without errors\"\n",
    "        else:\n",
    "            state_upper = \"door is closing\"\n",
    "            state_lower = \"door is closing\"\n",
    "    else:\n",
    "        print(\"some logic error occured\")\n",
    "        state_upper = \"error\"\n",
    "        state_lower = \"error\"\n",
    "    \n",
    "    return error, state_upper, state_lower"
   ]
  },
  {
   "cell_type": "markdown",
   "metadata": {},
   "source": [
    "# Состояние системы"
   ]
  },
  {
   "cell_type": "code",
   "execution_count": null,
   "metadata": {},
   "outputs": [],
   "source": [
    "is_connect, state = doors_mb.mb_read_state()\n",
    "\n",
    "if is_connect:\n",
    "    result = json.dumps(state, indent=4, sort_keys=True)\n",
    "    print(result)"
   ]
  },
  {
   "cell_type": "code",
   "execution_count": null,
   "metadata": {},
   "outputs": [],
   "source": [
    "state_high_level()"
   ]
  },
  {
   "cell_type": "markdown",
   "metadata": {},
   "source": [
    "# Открыть дверь"
   ]
  },
  {
   "cell_type": "code",
   "execution_count": null,
   "metadata": {},
   "outputs": [],
   "source": [
    "result = doors_mb.mb_write_command(2)"
   ]
  },
  {
   "cell_type": "markdown",
   "metadata": {},
   "source": [
    "# Закрыть дверь"
   ]
  },
  {
   "cell_type": "code",
   "execution_count": null,
   "metadata": {},
   "outputs": [],
   "source": [
    "result = doors_mb.mb_write_command(1)"
   ]
  },
  {
   "cell_type": "markdown",
   "metadata": {},
   "source": [
    "# Отпустить дверь"
   ]
  },
  {
   "cell_type": "code",
   "execution_count": null,
   "metadata": {},
   "outputs": [],
   "source": [
    "result = doors_mb.mb_write_command(0)"
   ]
  },
  {
   "cell_type": "markdown",
   "metadata": {},
   "source": [
    "# Открыть и закрыть дверь N раз"
   ]
  },
  {
   "cell_type": "code",
   "execution_count": null,
   "metadata": {},
   "outputs": [],
   "source": [
    "def open_test():\n",
    "    # print(\"TEST\")\n",
    "    error, upper_state, lower_state = state_high_level()\n",
    "    if error == \"error\":\n",
    "        print(\"some error\")\n",
    "        return\n",
    "        # TODO: print error num\n",
    "    \n",
    "    # open door and wait\n",
    "    result = doors_mb.mb_write_command(2)\n",
    "    print(\"OPENING...\")\n",
    "    while upper_state != 'door closed without errors' and lower_state != 'door closed without errors':\n",
    "        error, upper_state, lower_state = state_high_level()\n",
    "        sleep(0.5)\n",
    "\n",
    "    print(\"OPEN\")\n",
    "    return \n",
    "\n",
    "def close_test():\n",
    "    error, upper_state, lower_state = state_high_level()\n",
    "    if error == \"error\":\n",
    "        print(\"some error\")\n",
    "        return\n",
    "        # TODO: print error num\n",
    "    \n",
    "    # close door and wait\n",
    "    result = doors_mb.mb_write_command(1)\n",
    "    print(\"Closing...\")\n",
    "    while upper_state != \"door open without errors\" and lower_state != \"door open without errors\":\n",
    "        error, upper_state, lower_state = state_high_level()\n",
    "        sleep(0.5)\n",
    "        return"
   ]
  },
  {
   "cell_type": "code",
   "execution_count": null,
   "metadata": {},
   "outputs": [],
   "source": [
    "num = 5\n",
    "for i in range(num):\n",
    "    print(\"========= TEST \" + str(i) + \" =========\")\n",
    "    open_test()\n",
    "    sleep(3)\n",
    "    close_test()\n",
    "    sleep(3)"
   ]
  },
  {
   "cell_type": "markdown",
   "metadata": {},
   "source": [
    "# Протяжка пленки"
   ]
  },
  {
   "cell_type": "code",
   "execution_count": null,
   "metadata": {},
   "outputs": [],
   "source": [
    "state = client.read_holding_registers(100, 11, unit=doors_and_film_system_slave_id) # start_address, count, slave_id\n",
    "state.registers"
   ]
  },
  {
   "cell_type": "markdown",
   "metadata": {},
   "source": [
    "### erase error"
   ]
  },
  {
   "cell_type": "code",
   "execution_count": null,
   "metadata": {},
   "outputs": [],
   "source": [
    "client.write_register(100, 0 , unit=doors_and_film_system_slave_id)\n",
    "client.write_register(101, 0 , unit=doors_and_film_system_slave_id)"
   ]
  },
  {
   "cell_type": "markdown",
   "metadata": {},
   "source": [
    "### film broach"
   ]
  },
  {
   "cell_type": "code",
   "execution_count": null,
   "metadata": {},
   "outputs": [],
   "source": [
    "client.write_register(102, 200 , unit=doors_and_film_system_slave_id)"
   ]
  }
 ],
 "metadata": {
  "kernelspec": {
   "display_name": "Python 3.9.2 32-bit",
   "language": "python",
   "name": "python3"
  },
  "language_info": {
   "codemirror_mode": {
    "name": "ipython",
    "version": 3
   },
   "file_extension": ".py",
   "mimetype": "text/x-python",
   "name": "python",
   "nbconvert_exporter": "python",
   "pygments_lexer": "ipython3",
   "version": "3.9.2"
  },
  "orig_nbformat": 4,
  "vscode": {
   "interpreter": {
    "hash": "767d51c1340bd893661ea55ea3124f6de3c7a262a8b4abca0554b478b1e2ff90"
   }
  }
 },
 "nbformat": 4,
 "nbformat_minor": 2
}
